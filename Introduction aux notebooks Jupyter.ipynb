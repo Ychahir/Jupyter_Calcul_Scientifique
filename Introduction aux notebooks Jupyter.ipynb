{
 "cells": [
  {
   "cell_type": "markdown",
   "metadata": {
    "slideshow": {
     "slide_type": "subslide"
    },
    "toc": "true"
   },
   "source": [
    "<h1>Table of Contents<span class=\"tocSkip\"></span></h1>\n",
    "<div class=\"toc\"><ul class=\"toc-item\"><li><span><a href=\"#Introduction-aux-notebooks-Jupyter\" data-toc-modified-id=\"Introduction-aux-notebooks-Jupyter-1\"><span class=\"toc-item-num\">1&nbsp;&nbsp;</span>Introduction aux notebooks Jupyter</a></span><ul class=\"toc-item\"><li><span><a href=\"#Jupyter\" data-toc-modified-id=\"Jupyter-1.1\"><span class=\"toc-item-num\">1.1&nbsp;&nbsp;</span>Jupyter</a></span><ul class=\"toc-item\"><li><span><a href=\"#Introduction\" data-toc-modified-id=\"Introduction-1.1.1\"><span class=\"toc-item-num\">1.1.1&nbsp;&nbsp;</span>Introduction</a></span></li><li><span><a href=\"#Notebook-Jupyter\" data-toc-modified-id=\"Notebook-Jupyter-1.1.2\"><span class=\"toc-item-num\">1.1.2&nbsp;&nbsp;</span>Notebook Jupyter</a></span></li></ul></li><li><span><a href=\"#Installer-Jupyter\" data-toc-modified-id=\"Installer-Jupyter-1.2\"><span class=\"toc-item-num\">1.2&nbsp;&nbsp;</span>Installer Jupyter</a></span></li><li><span><a href=\"#Produire-un-document-avec-Jupyter\" data-toc-modified-id=\"Produire-un-document-avec-Jupyter-1.3\"><span class=\"toc-item-num\">1.3&nbsp;&nbsp;</span>Produire un document avec Jupyter</a></span><ul class=\"toc-item\"><li><span><a href=\"#Aperçu-de-l'interface-de-Jupyter-:-comment-lancer-Jupyter\" data-toc-modified-id=\"Aperçu-de-l'interface-de-Jupyter-:-comment-lancer-Jupyter-1.3.1\"><span class=\"toc-item-num\">1.3.1&nbsp;&nbsp;</span>Aperçu de l'interface de Jupyter : comment lancer Jupyter</a></span></li></ul></li><li><span><a href=\"#Des-exemples-en-Python\" data-toc-modified-id=\"Des-exemples-en-Python-1.4\"><span class=\"toc-item-num\">1.4&nbsp;&nbsp;</span>Des exemples en Python</a></span><ul class=\"toc-item\"><li><span><a href=\"#Premier-contact-avec-Python\" data-toc-modified-id=\"Premier-contact-avec-Python-1.4.1\"><span class=\"toc-item-num\">1.4.1&nbsp;&nbsp;</span>Premier contact avec Python</a></span></li><li><span><a href=\"#Manipulation-de-tableaux-numpy-et-affichage-avec-Matplotlib\" data-toc-modified-id=\"Manipulation-de-tableaux-numpy-et-affichage-avec-Matplotlib-1.4.2\"><span class=\"toc-item-num\">1.4.2&nbsp;&nbsp;</span>Manipulation de tableaux numpy et affichage avec Matplotlib</a></span></li><li><span><a href=\"#Quelques-micro-exemples-très-pratiques\" data-toc-modified-id=\"Quelques-micro-exemples-très-pratiques-1.4.3\"><span class=\"toc-item-num\">1.4.3&nbsp;&nbsp;</span>Quelques micro exemples très pratiques</a></span></li></ul></li><li><span><a href=\"#Conclusion-:-conseils-pour-devenir-un-e-expert-e-en-Jupyter\" data-toc-modified-id=\"Conclusion-:-conseils-pour-devenir-un-e-expert-e-en-Jupyter-1.5\"><span class=\"toc-item-num\">1.5&nbsp;&nbsp;</span>Conclusion : conseils pour devenir un-e expert-e en Jupyter</a></span></li><li><span><a href=\"#Références-et-liens\" data-toc-modified-id=\"Références-et-liens-1.6\"><span class=\"toc-item-num\">1.6&nbsp;&nbsp;</span>Références et liens</a></span></li></ul></li></ul></div>"
   ]
  },
  {
   "cell_type": "markdown",
   "metadata": {
    "slideshow": {
     "slide_type": "slide"
    }
   },
   "source": [
    "# Introduction aux notebooks Jupyter \n",
    "<br>\n",
    "<center>\n",
    "    <span style=\"color:blue;\">Youssef CHAHIR</span>\n",
    "    <img width=\"15%\" src=\"figs/logo_Jupyter.png\">\n",
    "</center>\n",
    "<br>\n",
    "- Ces ressources sont disponibles en ligne sur [`ecampus`](https://ecampus.unicaen.fr)\n",
    "<!--\n",
    "- <span >Ouvrez un navigateur web, et ouvrez ce lien. \n",
    "- N'hésitez pas à m'interrompre et poser des questions, si besoin.\n",
    "<br>\n",
    " -->\n",
    " \n"
   ]
  },
  {
   "cell_type": "markdown",
   "metadata": {
    "slideshow": {
     "slide_type": "subslide"
    }
   },
   "source": []
  },
  {
   "cell_type": "markdown",
   "metadata": {
    "slideshow": {
     "slide_type": "slide"
    }
   },
   "source": [
    "## Jupyter\n",
    "### Introduction \n",
    "\n",
    "*Jupyter* est nommé d'après Jupiter, et pour *Ju*lia, *pyt*hon, et *R*, les trois premiers langages pour lesquels Jupyter était disponible.\n",
    "\n",
    "→ Initialement, il a commencé sous le nom [ipython](http://www.ipython.org/) car il a été conçu pour être utilisé pour le langage de programmation Python.\n",
    "\n",
    "- Jupyter est un environnement de développement intégré (IDE) \"WYSIWYG\" (What-you-see-is-what-you-get).\n",
    "- Il est utilisé pour différents langages de programmation (que l'on utilise depuis un navigateur Internet) tels que des langages dynamiques interprétés comme Python mais aussi pour des langages compilés, tels que C/C++.\n",
    "- Tous les logiciels de l'environnement Jupyter, sont gratuits et sous licence libre, comme Python.\n",
    "\n"
   ]
  },
  {
   "cell_type": "markdown",
   "metadata": {
    "slideshow": {
     "slide_type": "slide"
    }
   },
   "source": [
    "### Notebook Jupyter\n",
    "\n",
    "- C'est un fichier, à l'extension `.ipynb` (*ipy*thon *n*ote*b*ook), qui est un format de texte brut de type [JSON](https://www.json.org/).\n",
    "\n",
    "- C'est un outil facile à utiliser pour les débutants et puissant pour les utilisateurs experts.\n",
    "\n",
    "- Un outil unique pour rédiger des petits morceaux de code (exercices, TP, tutoriel, analyse de données etc), avec du texte ou une documentation, les résultats de l'exécution du code, des figures etc,\n",
    "\n",
    "- Ce fichier .ipynb (slideshow) peut être converti en présentation en page web statique (HTML), en document pdf (PDF) ou en script (Python ou autre)\n",
    "\n",
    "- Bonne compatibilité avec les gestionnaires de version tels que `git`.\n"
   ]
  },
  {
   "cell_type": "markdown",
   "metadata": {
    "slideshow": {
     "slide_type": "subslide"
    }
   },
   "source": [
    "Un document <span style=\"color:red;\">contient des cellules</span> de texte (en Markdown ↑), et de code ↓.  \n",
    "*Ceci est une cellule de texte*."
   ]
  },
  {
   "cell_type": "code",
   "execution_count": 2,
   "metadata": {},
   "outputs": [
    {
     "name": "stdout",
     "output_type": "stream",
     "text": [
      "Introduction aux notebooks Jupyter.ipynb: HTML document text, UTF-8 Unicode text, with very long lines\n",
      "{\n",
      " \"cells\": [\n",
      "  {\n",
      "   \"cell_type\": \"markdown\",\n",
      "   \"metadata\": {\n",
      "    \"slideshow\": {\n",
      "     \"slide_type\": \"subslide\"\n",
      "    },\n",
      "    \"toc\": \"true\"\n",
      "   },\n"
     ]
    }
   ],
   "source": [
    "# Et celle ci est une celle de code\n",
    "# (ici dans le terminal, depuis Python dans Jupyter ou IPython, avec !commande ...)\n",
    "!file \"Introduction aux notebooks Jupyter.ipynb\""
   ]
  },
  {
   "cell_type": "code",
   "execution_count": 36,
   "metadata": {},
   "outputs": [
    {
     "name": "stdout",
     "output_type": "stream",
     "text": [
      "{\r\n",
      " \"cells\": [\r\n",
      "  {\r\n",
      "   \"cell_type\": \"markdown\",\r\n",
      "   \"metadata\": {\r\n",
      "    \"slideshow\": {\r\n",
      "     \"slide_type\": \"subslide\"\r\n",
      "    },\r\n",
      "    \"toc\": \"true\"\r\n",
      "   },\r\n"
     ]
    }
   ],
   "source": [
    "!head \"Introduction aux notebooks Jupyter.ipynb\""
   ]
  },
  {
   "cell_type": "code",
   "execution_count": 37,
   "metadata": {},
   "outputs": [
    {
     "name": "stdout",
     "output_type": "stream",
     "text": [
      "    \"Un document <span style=\\\"color:red;\\\">contient des cellules</span> de texte (en Markdown ↑), et de code ↓.  \\n\",\r\n"
     ]
    }
   ],
   "source": [
    "!grep \"contient des cellules\" \"Introduction aux notebooks Jupyter.ipynb\" | head -n1"
   ]
  },
  {
   "cell_type": "markdown",
   "metadata": {
    "slideshow": {
     "slide_type": "slide"
    }
   },
   "source": [
    "---\n",
    "## Installer Jupyter\n",
    "\n",
    "En suivant le tutoriel en ligne depuis [`jupyter.org/install.html`](https://jupyter.org/install.html), il est facile d’installer tout l’écosystème Jupyter sur tout ordinateur avec `Python` et un gestionnaire de paquets (`pip` ou `conda`) installé.\n",
    "\n",
    "Sur Windows ou Mac OS X, ou même la plupart des systèmes GNU/Linux, un installeur gratuit appelé Anaconda ([`www.anaconda.com/distribution`/](https://www.anaconda.com/distribution/)) installe tout ça en un clic !\n",
    "\n",
    "\n",
    "<center><img width=\"75%\" src=\"figs/installing_jupyter.png\"></center>\n",
    "\n",
    "\n",
    "<center><img width=\"60%\" src=\"figs/installing_jupyter_with_Anaconda.png\"></center>"
   ]
  },
  {
   "cell_type": "markdown",
   "metadata": {
    "slideshow": {
     "slide_type": "slide"
    }
   },
   "source": [
    "## Produire un document avec Jupyter \n",
    "\n",
    "L'interface graphique des notebooks Jupyte permet d'éditer des cellules de texte ou de code, et exécuter des cellules.\n",
    "\n",
    "Ceci est une **cellule de texte**. On peut *utiliser* le langage à balise [Markdown](http://commonmark.org/) ! Et $\\LaTeX^2$"
   ]
  },
  {
   "cell_type": "markdown",
   "metadata": {
    "slideshow": {
     "slide_type": "subslide"
    }
   },
   "source": [
    "### Aperçu de l'interface de Jupyter : comment lancer Jupyter\n",
    "\n",
    "- Sous Mac ou GNU/Linux, dans un terminal : `$ jupyter-notebook`,\n",
    "- Sous Windows, avec Anaconda, il y a un lanceur graphique installé.\n",
    "\n",
    "![](figs/lancer_jupyter_notebook.png)"
   ]
  },
  {
   "cell_type": "code",
   "execution_count": null,
   "metadata": {},
   "outputs": [],
   "source": []
  },
  {
   "cell_type": "markdown",
   "metadata": {
    "slideshow": {
     "slide_type": "-"
    }
   },
   "source": [
    "- Utiliser *Jupyter Lab*, la nouvelle version de l'interface utilisateur de Jupyter (plus moderne).\n",
    "\n",
    "[jupyterlab](https://www.stat4decision.com/fr/jupyterlab-python/) "
   ]
  },
  {
   "cell_type": "markdown",
   "metadata": {
    "slideshow": {
     "slide_type": "slide"
    }
   },
   "source": [
    "---\n",
    "## Des exemples en Python\n",
    "\n",
    "1. Premier contact avec Python,\n",
    "2. Manipulation de tableaux numpy et affichage avec Matplotlib,\n",
    "3. Un exemple plus impressionnant : pavage de Penrose."
   ]
  },
  {
   "cell_type": "markdown",
   "metadata": {
    "slideshow": {
     "slide_type": "slide"
    }
   },
   "source": [
    "### Premier contact avec Python\n",
    "\n",
    "Des petits exemples d'utilisation de Python, venant de la page d'accueil de [`python.org`](https://www.python.org/) :"
   ]
  },
  {
   "cell_type": "code",
   "execution_count": 2,
   "metadata": {
    "slideshow": {
     "slide_type": "subslide"
    }
   },
   "outputs": [
    {
     "name": "stdout",
     "output_type": "stream",
     "text": [
      "Le produit de ces 4 nombres est 384\n"
     ]
    }
   ],
   "source": [
    "nombres = [2, 4, 6, 8]\n",
    "produit = 1\n",
    "for nombre in nombres:\n",
    "    produit *= nombre\n",
    "\n",
    "print(\"Le produit de ces\", len(nombres), \"nombres est\", produit)"
   ]
  },
  {
   "cell_type": "code",
   "execution_count": 3,
   "metadata": {
    "slideshow": {
     "slide_type": "subslide"
    }
   },
   "outputs": [
    {
     "name": "stdout",
     "output_type": "stream",
     "text": [
      "Date actuelle :\n",
      "2020-02-05 09:59:11.046061\n"
     ]
    }
   ],
   "source": [
    "import datetime\n",
    "\n",
    "print(\"Date actuelle :\")\n",
    "print(datetime.datetime.now())"
   ]
  },
  {
   "cell_type": "code",
   "execution_count": 4,
   "metadata": {
    "scrolled": true,
    "slideshow": {
     "slide_type": "subslide"
    }
   },
   "outputs": [
    {
     "name": "stdout",
     "output_type": "stream",
     "text": [
      "0 1 1 2 3 5 8 13 21 34 55 89 144 233 377 610 987 \n"
     ]
    }
   ],
   "source": [
    "def fib(n):\n",
    "    \"\"\" Affiche les premières valeurs de la suite de Fibonacci <= n.\"\"\"\n",
    "    a, b = 0, 1\n",
    "    while a < n:\n",
    "        print(a, end=' ')\n",
    "        a, b = b, a+b\n",
    "    print()\n",
    "\n",
    "fib(1000)"
   ]
  },
  {
   "cell_type": "markdown",
   "metadata": {
    "slideshow": {
     "slide_type": "slide"
    }
   },
   "source": [
    "### Manipulation de tableaux numpy et affichage avec Matplotlib\n",
    "\n",
    "> Cet exemple est tiré d'un exercice d'oral de CentraleSupélec pour PSI (166 officiel de la Taupe 2019)."
   ]
  },
  {
   "cell_type": "markdown",
   "metadata": {
    "slideshow": {
     "slide_type": "subslide"
    }
   },
   "source": [
    "Sur un plateau style Monopoly à 12 cases, un pion part de la case 0, et on joue au dé (à 6 faces) pour avancer à chaque coup de $x$ cases (où $x\\sim\\mathcal{U}(1,\\dots,6)$).\n",
    "\n",
    "L'exercice demande de simuler la variable aléatoire $Y_n$ représentant la case sur laquelle le pion se trouve après $n$ déplacements."
   ]
  },
  {
   "cell_type": "code",
   "execution_count": 39,
   "metadata": {
    "slideshow": {
     "slide_type": "subslide"
    }
   },
   "outputs": [],
   "source": [
    "import numpy as np\n",
    "import numpy.random as rd\n",
    "\n",
    "import matplotlib.pyplot as plt\n",
    "import seaborn as sns\n",
    "# pour de jolis graphiques\n",
    "sns.set(context=\"notebook\", style=\"whitegrid\", palette=\"hls\", font=\"sans-serif\", font_scale=1.3)"
   ]
  },
  {
   "cell_type": "code",
   "execution_count": 40,
   "metadata": {
    "slideshow": {
     "slide_type": "subslide"
    }
   },
   "outputs": [],
   "source": [
    "case_max = 12\n",
    "\n",
    "def prochaine_case(case):\n",
    "    return (case + rd.randint(1, 6+1)) % case_max  # modulo 12\n",
    "\n",
    "def Yn(duree, depart=0):\n",
    "    case = depart\n",
    "    for coup in range(duree):\n",
    "        case = prochaine_case(case)\n",
    "    return case"
   ]
  },
  {
   "cell_type": "markdown",
   "metadata": {
    "slideshow": {
     "slide_type": "subslide"
    }
   },
   "source": [
    "Avant de s'en servir pour simuler plein de trajectoirs, on peut vérifier que en un coup, on avance pas plus de 6 cases :"
   ]
  },
  {
   "cell_type": "code",
   "execution_count": 41,
   "metadata": {},
   "outputs": [
    {
     "data": {
      "text/plain": [
       "[4, 5, 3, 2, 5, 6, 4, 1, 3, 3]"
      ]
     },
     "execution_count": 41,
     "metadata": {},
     "output_type": "execute_result"
    }
   ],
   "source": [
    "[Yn(1) for _ in range(10)]  # toutes 1 <= ... <= 6"
   ]
  },
  {
   "cell_type": "markdown",
   "metadata": {
    "slideshow": {
     "slide_type": "subslide"
    }
   },
   "source": [
    "On peut ensuite réaliser des histogrammes des 12 valeurs possibles pour $Y_n$, avec par exemple 10000 répétitions iid."
   ]
  },
  {
   "cell_type": "code",
   "execution_count": 42,
   "metadata": {},
   "outputs": [],
   "source": [
    "def histogramme(duree, repetitions=10000):\n",
    "    cases = [Yn(duree) for _ in range(repetitions)]\n",
    "    frequences = [0] * case_max\n",
    "    for case in cases:\n",
    "        frequences[case] += 1\n",
    "    return frequences / np.sum(frequences)"
   ]
  },
  {
   "cell_type": "code",
   "execution_count": 61,
   "metadata": {
    "slideshow": {
     "slide_type": "subslide"
    }
   },
   "outputs": [
    {
     "data": {
      "image/png": "[encoded data removed]",
      "text/plain": [
       "<Figure size 720x504 with 1 Axes>"
      ]
     },
     "metadata": {
      "needs_background": "light"
     },
     "output_type": "display_data"
    }
   ],
   "source": [
    "n = 0\n",
    "plt.figure(figsize=(10, 7))\n",
    "plt.bar(np.arange(case_max), histogramme(n))\n",
    "plt.title(\"Histogramme de cases visitées en \" + str(n) + \" coups\")\n",
    "plt.show()"
   ]
  },
  {
   "cell_type": "code",
   "execution_count": 62,
   "metadata": {
    "slideshow": {
     "slide_type": "subslide"
    }
   },
   "outputs": [
    {
     "data": {
      "image/png": "[encoded data removed]",
      "text/plain": [
       "<Figure size 720x504 with 1 Axes>"
      ]
     },
     "metadata": {
      "needs_background": "light"
     },
     "output_type": "display_data"
    }
   ],
   "source": [
    "n = 1\n",
    "plt.figure(figsize=(10, 7))\n",
    "plt.bar(np.arange(case_max), histogramme(n))\n",
    "plt.title(\"Histogramme de cases visitées en \" + str(n) + \" coups\")\n",
    "plt.show()"
   ]
  },
  {
   "cell_type": "code",
   "execution_count": 63,
   "metadata": {
    "slideshow": {
     "slide_type": "subslide"
    }
   },
   "outputs": [
    {
     "data": {
      "image/png": "[encoded data removed]",
      "text/plain": [
       "<Figure size 720x504 with 1 Axes>"
      ]
     },
     "metadata": {
      "needs_background": "light"
     },
     "output_type": "display_data"
    }
   ],
   "source": [
    "n = 10\n",
    "_ = plt.figure(figsize=(10, 7))\n",
    "_ = plt.bar(np.arange(case_max), histogramme(n))\n",
    "_ = plt.title(\"Histogramme de cases visitées en \" + str(n) + \" coups\")\n",
    "plt.show()"
   ]
  },
  {
   "cell_type": "markdown",
   "metadata": {},
   "source": [
    "Cela montre qu'avec une trajectoire assez longue, le pion a une probabilité identique de terminer sur chaque position."
   ]
  },
  {
   "cell_type": "code",
   "execution_count": 64,
   "metadata": {
    "slideshow": {
     "slide_type": "subslide"
    }
   },
   "outputs": [
    {
     "data": {
      "image/png": "[encoded data removed]",
      "text/plain": [
       "<Figure size 720x504 with 1 Axes>"
      ]
     },
     "metadata": {
      "needs_background": "light"
     },
     "output_type": "display_data"
    }
   ],
   "source": [
    "n = 500\n",
    "plt.figure(figsize=(10, 7))\n",
    "plt.bar(np.arange(case_max), histogramme(n))\n",
    "plt.title(\"Histogramme de cases visitées en \" + str(n) + \" coups\")\n",
    "plt.show()"
   ]
  },
  {
   "cell_type": "markdown",
   "metadata": {
    "slideshow": {
     "slide_type": "subslide"
    }
   },
   "source": [
    "### Quelques micro exemples très pratiques\n",
    "\n",
    "Dans Python avec Jupyter, on a accès au shell/terminal de l'environnement facilement :"
   ]
  },
  {
   "cell_type": "code",
   "execution_count": 70,
   "metadata": {
    "scrolled": true
   },
   "outputs": [
    {
     "name": "stdout",
     "output_type": "stream",
     "text": [
      "-rwxr-xr-x@ 1 chahir  staff    94K  5 fév  2020 paper/interactive_Turing_Machine_simulator_2.png\r\n",
      "-rwxr-xr-x@ 1 chahir  staff   108K  5 fév  2020 paper/interactive_Turing_Machine_simulator_1.png\r\n",
      "-rwxr-xr-x@ 1 chahir  staff    90K  5 fév  2020 paper/apercu_ENS_agreg_5.png\r\n",
      "-rwxr-xr-x@ 1 chahir  staff   125K  5 fév  2020 paper/apercu_ENS_agreg_4.png\r\n",
      "-rwxr-xr-x@ 1 chahir  staff    87K  5 fév  2020 paper/apercu_ENS_agreg_3.png\r\n",
      "-rwxr-xr-x@ 1 chahir  staff    50K  5 fév  2020 paper/apercu_ENS_agreg_2.png\r\n",
      "-rwxr-xr-x@ 1 chahir  staff    44K  5 fév  2020 paper/apercu_ENS_agreg_1.png\r\n",
      "-rwxr-xr-x@ 1 chahir  staff    20K  5 fév  2020 figs/variable_inspector_extension_Jupyter.png\r\n",
      "-rwxr-xr-x@ 1 chahir  staff    44K  5 fév  2020 figs/un_notebook_vide.png\r\n",
      "-rwxr-xr-x@ 1 chahir  staff   104K  5 fév  2020 figs/un_notebook_en_train_detre_edite.png\r\n"
     ]
    }
   ],
   "source": [
    "!ls -larth paper/*.png figs/*.png | head -n 10"
   ]
  },
  {
   "cell_type": "markdown",
   "metadata": {
    "slideshow": {
     "slide_type": "slide"
    }
   },
   "source": [
    "---\n",
    "## Conclusion : conseils pour devenir un-e expert-e en Jupyter\n",
    "\n",
    "- Installer Python et Jupyter sur votre ordinateur personnel ;\n",
    "- Essayer de rédiger un notebook Jupyter au lieu d'utiliser votre éditeur / IDE préféré ;\n",
    "- Apprendre par soi-même à utiliser l'interface de Jupyter ;"
   ]
  },
  {
   "cell_type": "markdown",
   "metadata": {
    "slideshow": {
     "slide_type": "subslide"
    }
   },
   "source": [
    "- Comment utiliser un dépôt GitHub/Bitbucket/GitLab pour héberger des notebooks Jupyter, et les afficher en ligne en utilisant le site [`nbviewer.jupyter.org`](https://nbviewer.jupyter.org/).\n",
    "  + [`nbviewer.jupyter.org/github/Naereen/Tutoriel-notebooks-Jupyter-a-Didapro-8-Lille-fevrier-2020`](https://nbviewer.jupyter.org/github/Naereen/Tutoriel-notebooks-Jupyter-a-Didapro-8-Lille-fevrier-2020)\n"
   ]
  },
  {
   "cell_type": "markdown",
   "metadata": {
    "slideshow": {
     "slide_type": "subslide"
    }
   },
   "source": [
    "- Comment utiliser Binder, Google Colab ou d’autres outils gratuits en ligne, pour ajouter un lien afin que tout utilisateur consultant vos notebooks Jupyter puisse démarrer un environnement interactif, directement depuis son navigateur Web, pour interagir avec le notebook sans rien avoir à installer.\n",
    "  + [`https://mybinder.org/`](https://mybinder.org)\n",
    "  \n",
    "[![Binder](https://mybinder.org/badge_logo.svg)](https://mybinder.org/)"
   ]
  },
  {
   "cell_type": "markdown",
   "metadata": {
    "slideshow": {
     "slide_type": "subslide"
    }
   },
   "source": [
    "- Utiliser les extensions Jupyter pour améliorer l'EDI. Voir [`jupyter-contrib-nbextensions.readthedocs.io`](https://jupyter-contrib-nbextensions.readthedocs.io/en/latest/).\n",
    "  + par exemple pour ajouter automatiquement une table des matières,\n",
    "  + un autre exemple : explorateur de variables (démonstration),\n",
    "  + un dernier exemple (méta) : RISE permet d'afficher une présentation interactive dynamiquement générée depuis le notebook (comme pour ce tutoriel).\n",
    "\n",
    "- Suiver les meilleurs exemples, par exemple le célèbre Peter Norvig (chef de la recherche chez Google) publie des notebooks très intéressants sur son projet [`github.com/norvig/pytudes`](https://github.com/norvig/pytudes), depuis 5 ans."
   ]
  },
  {
   "cell_type": "markdown",
   "metadata": {
    "slideshow": {
     "slide_type": "subslide"
    }
   },
   "source": []
  },
  {
   "cell_type": "markdown",
   "metadata": {
    "slideshow": {
     "slide_type": "slide"
    }
   },
   "source": [
    "---\n",
    "## Références et liens\n",
    "\n",
    "Pour terminer, quelques pointeurs pour en apprendre plus par vous-même.\n",
    "- Langage Python : [`www.python.org`](https://www.python.org/)\n",
    "- Projet jupyter : [`www.jupyter.org`](https://www.jupyter.org/)\n",
    "- IPyton [`ipython.org`](http://ipython.org).\n",
    "- Installeur Anaconda : [`www.anaconda.com/distribution/`](https://www.anaconda.com/distribution/)\n",
    "- Des bons tutoriels : [`plot.ly/python/v3/ipython-notebook-tutorial/`](https://plot.ly/python/v3/ipython-notebook-tutorial/) et [`www.dataquest.io/blog/advanced-jupyter-notebooks-tutorial/`](https://www.dataquest.io/blog/advanced-jupyter-notebooks-tutorial/)\n",
    "- Documentation : [`jupyter-notebook-beginner-guide.readthedocs.io`](https://jupyter-notebook-beginner-guide.readthedocs.io/en/latest/what_is_jupyter.html#id4)"
   ]
  }
 ],
 "metadata": {
  "celltoolbar": "Diaporama",
  "kernelspec": {
   "display_name": "Python 3",
   "language": "python",
   "name": "python3"
  },
  "language_info": {
   "codemirror_mode": {
    "name": "ipython",
    "version": 3
   },
   "file_extension": ".py",
   "mimetype": "text/x-python",
   "name": "python",
   "nbconvert_exporter": "python",
   "pygments_lexer": "ipython3",
   "version": "3.7.9"
  },
  "toc": {
   "base_numbering": 1,
   "nav_menu": {
    "height": "562.75px",
    "width": "418px"
   },
   "number_sections": true,
   "sideBar": true,
   "skip_h1_title": false,
   "title_cell": "Table of Contents",
   "title_sidebar": "Contents",
   "toc_cell": true,
   "toc_position": {
    "height": "656.8px",
    "left": "0px",
    "right": "1372px",
    "top": "150.2px",
    "width": "417px"
   },
   "toc_section_display": "block",
   "toc_window_display": true
  },
  "varInspector": {
   "cols": {
    "lenName": 16,
    "lenType": 16,
    "lenVar": 40
   },
   "kernels_config": {
    "python": {
     "delete_cmd_postfix": "",
     "delete_cmd_prefix": "del ",
     "library": "var_list.py",
     "varRefreshCmd": "print(var_dic_list())"
    },
    "r": {
     "delete_cmd_postfix": ") ",
     "delete_cmd_prefix": "rm(",
     "library": "var_list.r",
     "varRefreshCmd": "cat(var_dic_list()) "
    }
   },
   "position": {
    "height": "297.183px",
    "left": "2.66667px",
    "right": "20px",
    "top": "158px",
    "width": "433.667px"
   },
   "types_to_exclude": [
    "module",
    "function",
    "builtin_function_or_method",
    "instance",
    "_Feature"
   ],
   "window_display": false
  }
 },
 "nbformat": 4,
 "nbformat_minor": 2
}
