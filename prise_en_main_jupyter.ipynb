{
 "cells": [
  {
   "cell_type": "markdown",
   "metadata": {
    "slideshow": {
     "slide_type": "slide"
    }
   },
   "source": [
    "\n",
    "<img width=\"25%\" src=\"figs/UNICAEN-logo-NOIR-horizontal.png\">\n",
    "<center>\n",
    "    <FONT size=\"14\">Calcul scientifique (INF2B2)</FONT> <br>\n",
    "    <FONT size=\"6\">  Prise en main Jupyter Notebook </FONT><br>\n",
    "    <FONT size=\"5\"> Exercices de prise en main </FONT><br></center>\n",
    "<br>\n",
    "<center>\n",
    "    <span style=\"color:blue;\"><u><b>Youssef CHAHIR</b></u> </span>\n",
    "    <br>\n",
    "    <img width=\"15%\" src=\"figs/logo_Jupyter.png\">\n",
    "    \n",
    "</center>\n",
    "<br>\n",
    "- Ces ressources sont disponibles en ligne sur [`ecampus`](https://ecampus.unicaen.fr)\n",
    "\n",
    " \n",
    "Cet tutoriel a pour objectif de vous faire rapidement explorer les **fonctionnalités de base** de l'interpréteur interactif **jupyter** en mode **Notebook**.\n",
    "\n",
    "Mais tout d'abord **félicitations** d'être déjà parvenu à ouvrir ce notebook !\n",
    "\n",
    "-----"
   ]
  },
  {
   "cell_type": "markdown",
   "metadata": {
    "slideshow": {
     "slide_type": "subslide"
    },
    "toc": "true"
   },
   "source": [
    "<h1>Table of Contents<span class=\"tocSkip\"></span></h1>\n",
    "<div class=\"toc\"><ul class=\"toc-item\"><li><span><a href=\"#Jupyter-Notebook\" data-toc-modified-id=\"Jupyter-Notebook-1\"><span class=\"toc-item-num\">1&nbsp;&nbsp;</span>Jupyter Notebook</a></span><ul class=\"toc-item\"><li><span><a href=\"#Installer-Jupyter\" data-toc-modified-id=\"Installer-Jupyter-1.1\"><span class=\"toc-item-num\">1.1&nbsp;&nbsp;</span>Installer Jupyter</a></span></li><li><span><a href=\"#Lancer-Jupyter\" data-toc-modified-id=\"Lancer-Jupyter-1.2\"><span class=\"toc-item-num\">1.2&nbsp;&nbsp;</span>Lancer Jupyter</a></span></li><li><span><a href=\"#Cellules\" data-toc-modified-id=\"Cellules-1.3\"><span class=\"toc-item-num\">1.3&nbsp;&nbsp;</span>Cellules</a></span><ul class=\"toc-item\"><li><span><a href=\"#Cellules-de-code\" data-toc-modified-id=\"Cellules-de-code-1.3.1\"><span class=\"toc-item-num\">1.3.1&nbsp;&nbsp;</span>Cellules de code</a></span></li><li><span><a href=\"#Cellules-de-texte\" data-toc-modified-id=\"Cellules-de-texte-1.3.2\"><span class=\"toc-item-num\">1.3.2&nbsp;&nbsp;</span>Cellules de texte</a></span></li></ul></li><li><span><a href=\"#Sauvegarder-et-imprimer-un-notebook\" data-toc-modified-id=\"Sauvegarder-et-imprimer-un-notebook-1.4\"><span class=\"toc-item-num\">1.4&nbsp;&nbsp;</span>Sauvegarder et imprimer un notebook</a></span></li><li><span><a href=\"#Créer-et-exécuter-des-fichiers-Python-depuis-jupyter\" data-toc-modified-id=\"Créer-et-exécuter-des-fichiers-Python-depuis-jupyter-1.5\"><span class=\"toc-item-num\">1.5&nbsp;&nbsp;</span>Créer et exécuter des fichiers Python depuis jupyter</a></span><ul class=\"toc-item\"><li><span><a href=\"#Créer-un-script--:\" data-toc-modified-id=\"Créer-un-script--:-1.5.1\"><span class=\"toc-item-num\">1.5.1&nbsp;&nbsp;</span>Créer un script  :</a></span></li><li><span><a href=\"#Exécution-d’une-commande-:\" data-toc-modified-id=\"Exécution-d’une-commande-:-1.5.2\"><span class=\"toc-item-num\">1.5.2&nbsp;&nbsp;</span>Exécution d’une commande :</a></span></li></ul></li><li><span><a href=\"#Des-exemples-en-Python\" data-toc-modified-id=\"Des-exemples-en-Python-1.6\"><span class=\"toc-item-num\">1.6&nbsp;&nbsp;</span>Des exemples en Python</a></span><ul class=\"toc-item\"><li><span><a href=\"#Ecrire-des-programmes-et-les-exécuter-depuis-Jupyter\" data-toc-modified-id=\"Ecrire-des-programmes-et-les-exécuter-depuis-Jupyter-1.6.1\"><span class=\"toc-item-num\">1.6.1&nbsp;&nbsp;</span>Ecrire des programmes et les exécuter depuis Jupyter</a></span></li><li><span><a href=\"#Récupération-des-entrées-/-sorties-précédentes\" data-toc-modified-id=\"Récupération-des-entrées-/-sorties-précédentes-1.6.2\"><span class=\"toc-item-num\">1.6.2&nbsp;&nbsp;</span>Récupération des entrées / sorties précédentes</a></span></li><li><span><a href=\"#Système-d'exploitation\" data-toc-modified-id=\"Système-d'exploitation-1.6.3\"><span class=\"toc-item-num\">1.6.3&nbsp;&nbsp;</span>Système d'exploitation</a></span></li><li><span><a href=\"#Mesure-du-temps-et-profilage-de-programmes\" data-toc-modified-id=\"Mesure-du-temps-et-profilage-de-programmes-1.6.4\"><span class=\"toc-item-num\">1.6.4&nbsp;&nbsp;</span>Mesure du temps et profilage de programmes</a></span></li></ul></li><li><span><a href=\"#Graphiques-dans-un-notebook\" data-toc-modified-id=\"Graphiques-dans-un-notebook-1.7\"><span class=\"toc-item-num\">1.7&nbsp;&nbsp;</span>Graphiques dans un notebook</a></span><ul class=\"toc-item\"><li><span><a href=\"#Intégrer-une-image-:\" data-toc-modified-id=\"Intégrer-une-image-:-1.7.1\"><span class=\"toc-item-num\">1.7.1&nbsp;&nbsp;</span>Intégrer une image :</a></span></li><li><span><a href=\"#Intégrer-une-vidéo-youtube-:\" data-toc-modified-id=\"Intégrer-une-vidéo-youtube-:-1.7.2\"><span class=\"toc-item-num\">1.7.2&nbsp;&nbsp;</span>Intégrer une vidéo youtube :</a></span></li><li><span><a href=\"#Intégrer-une-page-web-:\" data-toc-modified-id=\"Intégrer-une-page-web-:-1.7.3\"><span class=\"toc-item-num\">1.7.3&nbsp;&nbsp;</span>Intégrer une page web :</a></span></li></ul></li><li><span><a href=\"#Autres-fonctionnalités-utiles\" data-toc-modified-id=\"Autres-fonctionnalités-utiles-1.8\"><span class=\"toc-item-num\">1.8&nbsp;&nbsp;</span>Autres fonctionnalités utiles</a></span></li><li><span><a href=\"#Exemple-:-Tableaux-avec-numpy-et-affichage-avec-Matplotlib\" data-toc-modified-id=\"Exemple-:-Tableaux-avec-numpy-et-affichage-avec-Matplotlib-1.9\"><span class=\"toc-item-num\">1.9&nbsp;&nbsp;</span>Exemple : Tableaux avec numpy et affichage avec Matplotlib</a></span><ul class=\"toc-item\"><li><span><a href=\"#Quelques-micro-exemples-très-pratiques\" data-toc-modified-id=\"Quelques-micro-exemples-très-pratiques-1.9.1\"><span class=\"toc-item-num\">1.9.1&nbsp;&nbsp;</span>Quelques micro exemples très pratiques</a></span></li></ul></li><li><span><a href=\"#Conseils\" data-toc-modified-id=\"Conseils-1.10\"><span class=\"toc-item-num\">1.10&nbsp;&nbsp;</span>Conseils</a></span></li></ul></li><li><span><a href=\"#Annexes-:-Quelques-éléments-de-Markdown-pour-Jupyter\" data-toc-modified-id=\"Annexes-:-Quelques-éléments-de-Markdown-pour-Jupyter-2\"><span class=\"toc-item-num\">2&nbsp;&nbsp;</span>Annexes : Quelques éléments de Markdown pour Jupyter</a></span><ul class=\"toc-item\"><li><ul class=\"toc-item\"><li><span><a href=\"#Italique\" data-toc-modified-id=\"Italique-2.0.1\"><span class=\"toc-item-num\">2.0.1&nbsp;&nbsp;</span>Italique</a></span></li><li><span><a href=\"#Gras\" data-toc-modified-id=\"Gras-2.0.2\"><span class=\"toc-item-num\">2.0.2&nbsp;&nbsp;</span>Gras</a></span></li><li><span><a href=\"#Strike-through\" data-toc-modified-id=\"Strike-through-2.0.3\"><span class=\"toc-item-num\">2.0.3&nbsp;&nbsp;</span>Strike-through</a></span></li><li><span><a href=\"#Police-de-taille-fixe\" data-toc-modified-id=\"Police-de-taille-fixe-2.0.4\"><span class=\"toc-item-num\">2.0.4&nbsp;&nbsp;</span>Police de taille fixe</a></span></li><li><span><a href=\"#URLs\" data-toc-modified-id=\"URLs-2.0.5\"><span class=\"toc-item-num\">2.0.5&nbsp;&nbsp;</span>URLs</a></span></li><li><span><a href=\"#Nouveaux-paragraphes\" data-toc-modified-id=\"Nouveaux-paragraphes-2.0.6\"><span class=\"toc-item-num\">2.0.6&nbsp;&nbsp;</span>Nouveaux paragraphes</a></span></li><li><span><a href=\"#Verbatim\" data-toc-modified-id=\"Verbatim-2.0.7\"><span class=\"toc-item-num\">2.0.7&nbsp;&nbsp;</span>Verbatim</a></span></li><li><span><a href=\"#Tableaux\" data-toc-modified-id=\"Tableaux-2.0.8\"><span class=\"toc-item-num\">2.0.8&nbsp;&nbsp;</span>Tableaux</a></span></li><li><span><a href=\"#Ligne-horizontale\" data-toc-modified-id=\"Ligne-horizontale-2.0.9\"><span class=\"toc-item-num\">2.0.9&nbsp;&nbsp;</span>Ligne horizontale</a></span></li><li><span><a href=\"#Headings\" data-toc-modified-id=\"Headings-2.0.10\"><span class=\"toc-item-num\">2.0.10&nbsp;&nbsp;</span>Headings</a></span></li><li><span><a href=\"#Block-quote\" data-toc-modified-id=\"Block-quote-2.0.11\"><span class=\"toc-item-num\">2.0.11&nbsp;&nbsp;</span>Block quote</a></span></li><li><span><a href=\"#Listes-non-ordonnées\" data-toc-modified-id=\"Listes-non-ordonnées-2.0.12\"><span class=\"toc-item-num\">2.0.12&nbsp;&nbsp;</span>Listes non ordonnées</a></span></li><li><span><a href=\"#Listes-ordonnées\" data-toc-modified-id=\"Listes-ordonnées-2.0.13\"><span class=\"toc-item-num\">2.0.13&nbsp;&nbsp;</span>Listes ordonnées</a></span></li><li><span><a href=\"#Image\" data-toc-modified-id=\"Image-2.0.14\"><span class=\"toc-item-num\">2.0.14&nbsp;&nbsp;</span>Image</a></span></li><li><span><a href=\"#LaTeX\" data-toc-modified-id=\"LaTeX-2.0.15\"><span class=\"toc-item-num\">2.0.15&nbsp;&nbsp;</span>LaTeX</a></span></li><li><span><a href=\"#Références-et-liens\" data-toc-modified-id=\"Références-et-liens-2.0.16\"><span class=\"toc-item-num\">2.0.16&nbsp;&nbsp;</span>Références et liens</a></span></li></ul></li></ul></li></ul></div>"
   ]
  },
  {
   "cell_type": "markdown",
   "metadata": {
    "slideshow": {
     "slide_type": "slide"
    }
   },
   "source": [
    "---\n",
    "# Jupyter Notebook\n",
    "## Installer Jupyter\n",
    "\n",
    "En suivant le tutoriel en ligne depuis [`jupyter.org/install.html`](https://jupyter.org/install.html), il est facile d’installer tout l’écosystème Jupyter sur tout ordinateur avec `Python` et un gestionnaire de paquets (`pip` ou `conda`) installé.\n",
    "\n",
    "Sur Windows ou Mac OS X, ou même la plupart des systèmes GNU/Linux, un installeur gratuit appelé Anaconda ([`www.anaconda.com/distribution`/](https://www.anaconda.com/distribution/)) installe tout ça en un clic !\n",
    "\n",
    "\n",
    "<center><img width=\"75%\" src=\"figs/installing_jupyter.png\"></center>\n",
    "\n",
    "\n",
    "<center><img width=\"60%\" src=\"figs/installing_jupyter_with_Anaconda.png\"></center>"
   ]
  },
  {
   "cell_type": "markdown",
   "metadata": {
    "slideshow": {
     "slide_type": "subslide"
    }
   },
   "source": [
    "## Lancer Jupyter\n",
    "\n",
    "- Sous Mac ou GNU/Linux, dans un terminal : `$ jupyter-notebook`,\n",
    "- Sous Windows, avec Anaconda, il y a un lanceur graphique installé.\n",
    "\n",
    "![](figs/lancer_jupyter_notebook.png)"
   ]
  },
  {
   "cell_type": "markdown",
   "metadata": {
    "slideshow": {
     "slide_type": "slide"
    }
   },
   "source": [
    "Notebook Jupyter :\n",
    "\n",
    "- Un fichier, à l'extension `.ipynb` (*ipy*thon *n*ote*b*ook), qui est un format de texte brut de type [JSON](https://www.json.org/).\n",
    "\n",
    "- Un outil facile à utiliser pour les débutants et puissant pour les utilisateurs experts.\n",
    "\n",
    "- Un outil unique pour rédiger des petits morceaux de code (exercices, TP, tutoriel, analyse de données etc), avec du texte ou une documentation, les résultats de l'exécution du code, des figures etc,\n",
    "\n",
    "- Un fichier .ipynb (slideshow) sui peut être converti en présentation en page web statique (HTML), en document pdf (PDF) ou en script (Python ou autre)\n",
    "\n",
    "- Permet une bonne compatibilité avec les gestionnaires de version tels que `git`.\n",
    "\n",
    "\n",
    "On peut utiliser **Jupyter Lab**, la nouvelle version de l'interface utilisateur de Jupyter (plus moderne).\n",
    "\n",
    "[jupyterlab](https://www.stat4decision.com/fr/jupyterlab-python/) \n"
   ]
  },
  {
   "cell_type": "markdown",
   "metadata": {
    "slideshow": {
     "slide_type": "slide"
    }
   },
   "source": [
    "## Cellules \n",
    "\n",
    "\n",
    "*Jupyter* est nommé d'après Jupiter, et pour *Ju*lia, *pyt*hon, et *R*, les trois premiers langages pour lesquels Jupyter était disponible.\n",
    "\n",
    "→ Initialement, il a commencé sous le nom [ipython](http://www.ipython.org/) car il a été conçu pour être utilisé pour le langage de programmation Python.\n",
    "\n",
    "- Jupyter est un environnement de développement intégré (IDE) \"WYSIWYG\" (What-you-see-is-what-you-get).\n",
    "- Il est utilisé pour différents langages de programmation (que l'on utilise depuis un navigateur Internet) tels que des langages dynamiques interprétés comme Python mais aussi pour des langages compilés, tels que C/C++.\n",
    "- Tous les logiciels de l'environnement Jupyter, sont gratuits et sous licence libre, comme Python.\n",
    "\n"
   ]
  },
  {
   "cell_type": "markdown",
   "metadata": {},
   "source": [
    "Un notebook jupyter consiste en **cellules** individuelles pouvant contenir du **code** Python, du **texte** (avec formatage Markdown, HTML et LaTeX) ou des **graphiques**. "
   ]
  },
  {
   "cell_type": "markdown",
   "metadata": {},
   "source": [
    "### Cellules de code\n",
    "Commençons par les cellules de type Code. (c'est-à-dire préfixée par **In[ ]:**) \n",
    "\n",
    "On est par défaut en mode **édition de code** Python !\n",
    "\n",
    "**1)** Placez le curseur dans la 1ère cellule **In[ ]:** ci-dessous puis frappez `<enter>`.\n",
    "\n",
    "\n",
    "Pour **exécuter le code** Python d'une cellule, il faut en effet frapper `<maj-enter>` (ou cliquer sur le bouton <button class='fa fa-step-forward icon-step-forward'></button>, ou encore utiliser le menu `Cell>Run and Select Below...`). Essayez !\n",
    "\n",
    "Une ligne **Out[ ]:** devrait être apparue en dessous de la 1ère expression, affichant le résultat de celle-ci ! Le curseur est alors automatiquement passé dans la cellule d'en-dessous que vous pouvez exécuter à son tour.\n",
    "\n",
    "_Notez qu'il est aussi possible de frapper `<ctrl-enter>` (identique à `Cell>Run`). Dans ce cas, le curseur **reste dans la cellule** après l'exécution du code._\n",
    "\n",
    "**2)** Pour détruire une cellule, sélectionnez-la puis cliquez sur le bouton <button class='fa fa-cut icon-cut btn  btn-xs btn-default'></button> (ou faites `Edit>Delete Cell`). Exercez-vous en détruisant la cellule ci-dessous. Puis rétablissez-la avec `Edit>Undo Delete Cell`\n",
    "\n",
    "**3)** On peut **spliter** une cellule : pour cela _double-cliquez_ d'abord dans la cellule pour l'éditer, puis placez le curseur entre les 2 lignes, et faites finalement `Edit>Split Cell`\n",
    "\n",
    "**4)** On peut **fusionnement** plusiuers3cellules de texte avec `Edit>Merge Cell Above` ou `Edit>Merge Cell Below`\n"
   ]
  },
  {
   "cell_type": "markdown",
   "metadata": {
    "slideshow": {
     "slide_type": "subslide"
    }
   },
   "source": [
    "### Cellules de texte\n",
    "\n",
    "Il existe 2 types de cellules de texte, selon le choix effectué à l'aide du menu déroulant de droite ou avec `Cell>Cell Type>...` :\n",
    "- **Raw NBConvert** (texte) : cellules de texte sans aucun formatage, directement éditables sans devoir _double-cliquer_ dedans ;\n",
    "- **Markdown** : cellules dans lesquelles le texte est soumis à un formatage selon la syntaxe Markdown ; les éventuelles balises HTML et le code LaTeX sont également interprétés...\n",
    "\n",
    "\n",
    "**5)** _S'agissant des cellules de texte au format **[Markdown](http://commonmark.org/)**, cela suppose quelques notions relatives au langage de balisage Markdown : ._\n",
    "\n",
    "\n",
    "Et il est même possible d'introduire du **code LaTeX** $\\LaTeX^2$ (placé entre deux caractères `$`) dans une cellule de type Markdown :\n",
    "\n",
    "$$f(x) = \\frac{1}{2}x^2 - x^{\\pi \\over 4}$$\n",
    "\n",
    "L'interface graphique des notebooks Jupyte permet d'éditer des cellules de texte ou de code, et exécuter des cellules.\n",
    "\n",
    "Pour plus d'informations : \n",
    "- [Rédigez en Markdown !](https://openclassrooms.com/courses/redigez-en-markdown)\n",
    "- [un Notebook assez complet sur les cellules au format Markdown](http://nbviewer.jupyter.org/github/twistedhardware/mltutorial/blob/master/notebooks/jupyter/2.%20Markdown%20%26%20LaTeX.ipynb)"
   ]
  },
  {
   "cell_type": "markdown",
   "metadata": {
    "slideshow": {
     "slide_type": "subslide"
    }
   },
   "source": [
    "Un document <span style=\"color:red;\">contient des cellules</span> de texte (en Markdown ↑), et de code ↓.  \n",
    "*Ceci est une cellule de texte*."
   ]
  },
  {
   "cell_type": "code",
   "execution_count": 45,
   "metadata": {},
   "outputs": [
    {
     "data": {
      "text/plain": [
       "5"
      ]
     },
     "execution_count": 45,
     "metadata": {},
     "output_type": "execute_result"
    }
   ],
   "source": [
    "3+2"
   ]
  },
  {
   "cell_type": "markdown",
   "metadata": {},
   "source": [
    "## Sauvegarder et imprimer un notebook\n",
    "\n",
    "- Pour **sauvegarder** un notebook, on peut utiliser e bouton <button class='fa fa-save icon-save btn  btn-xs btn-default'></button> (ou le menu `File>Save and Checkpoint`). Sachez que jupyter effectue par défaut des sauvegardes à intervalle régulier, et que `File>Revert to Checkpoint` permet de revenir à un état enregistré.\n",
    "\n",
    "- Pour **imprimer un notebook**, n'utilisez pas la commande d'impression de votre navigateur web depuis la fenêtre de notebook, le résultat sera très mauvais. La bonne méthode consiste à faire au préalable depuis le menu `File>Print Preview`. Mais il est peut être préférable de télécharger une version numérique du notebook sur l'ordinateur local dans le format qui vous convient comme le HTML pour obtenir une page web statique avec le menu `File>Download as`... ou pdf ...\n"
   ]
  },
  {
   "cell_type": "markdown",
   "metadata": {},
   "source": [
    "## Créer et exécuter des fichiers Python depuis jupyter\n",
    "\n",
    "Documentation sur les différentes commandes :\n",
    "https://ipython.readthedocs.io/en/stable/interactive/magics.html`\n",
    "\n",
    "### Créer un script  :"
   ]
  },
  {
   "cell_type": "code",
   "execution_count": 46,
   "metadata": {},
   "outputs": [
    {
     "name": "stdout",
     "output_type": "stream",
     "text": [
      "Overwriting hello.py\n"
     ]
    }
   ],
   "source": [
    "%%writefile hello.py\n",
    "print(\"Bonjour de Python!\")"
   ]
  },
  {
   "cell_type": "markdown",
   "metadata": {},
   "source": [
    "### Exécution d’une commande :\n",
    "\n",
    "Pour exécuter une commande shell, on utilise un point d’exclamation (!) qui doit toujours précéder la commande en question.\n",
    "\n",
    "Par exemple la commande «ls» (ou dir sur windows) permet de montrer tous les éléments qui se trouvent au niveau du répertoire actuel ainsi que son emplacement.\n",
    "\n",
    "Si le résultat tarde à s’afficher, on peut relancer le kernel ou le noyau « IPython » \n",
    "\n",
    "Dans Python avec Jupyter, on a accès au shell/terminal"
   ]
  },
  {
   "cell_type": "code",
   "execution_count": 47,
   "metadata": {
    "scrolled": true
   },
   "outputs": [
    {
     "name": "stdout",
     "output_type": "stream",
     "text": [
      "total 1912\r\n",
      "drwxr-xr-x@ 10 chahir  staff     320  2 jan 13:30 \u001b[34mfigs\u001b[m\u001b[m/\r\n",
      "-rw-r--r--   1 chahir  staff      28  2 jan 19:59 hello.py\r\n",
      "-rw-r--r--@  1 chahir  staff  445427  2 jan 19:10 prise_en_main_jupyter.html\r\n",
      "-rwxr-xr-x@  1 chahir  staff  353836  2 jan 19:59 \u001b[31mprise_en_main_jupyter.ipynb\u001b[m\u001b[m*\r\n",
      "-rw-r--r--   1 chahir  staff  168292  2 jan 19:36 res.pdf\r\n"
     ]
    }
   ],
   "source": [
    "%ls -l"
   ]
  },
  {
   "cell_type": "code",
   "execution_count": 48,
   "metadata": {},
   "outputs": [
    {
     "name": "stdout",
     "output_type": "stream",
     "text": [
      "total 1912\r\n",
      "drwxr-xr-x@ 10 chahir  staff     320  2 jan 13:30 \u001b[34mfigs\u001b[m\u001b[m\r\n",
      "-rw-r--r--   1 chahir  staff      28  2 jan 19:59 hello.py\r\n",
      "-rw-r--r--@  1 chahir  staff  445427  2 jan 19:10 prise_en_main_jupyter.html\r\n",
      "-rwxr-xr-x@  1 chahir  staff  353836  2 jan 19:59 \u001b[31mprise_en_main_jupyter.ipynb\u001b[m\u001b[m\r\n",
      "-rw-r--r--   1 chahir  staff  168292  2 jan 19:36 res.pdf\r\n"
     ]
    }
   ],
   "source": [
    "!ls -l"
   ]
  },
  {
   "cell_type": "code",
   "execution_count": 49,
   "metadata": {},
   "outputs": [
    {
     "name": "stdout",
     "output_type": "stream",
     "text": [
      "Bonjour de Python!\r\n"
     ]
    }
   ],
   "source": [
    "!python3 hello.py"
   ]
  },
  {
   "cell_type": "code",
   "execution_count": 50,
   "metadata": {
    "scrolled": true
   },
   "outputs": [
    {
     "name": "stdout",
     "output_type": "stream",
     "text": [
      "Python 3.7.9\r\n"
     ]
    }
   ],
   "source": [
    "!python3 --version"
   ]
  },
  {
   "cell_type": "code",
   "execution_count": 51,
   "metadata": {},
   "outputs": [
    {
     "name": "stdout",
     "output_type": "stream",
     "text": [
      "prise_en_main_jupyter.ipynb: HTML document text, UTF-8 Unicode text, with very long lines\r\n"
     ]
    }
   ],
   "source": [
    "# (ici dans le terminal, depuis Python dans Jupyter ou IPython, avec !commande ...)\n",
    "!file \"prise_en_main_jupyter.ipynb\""
   ]
  },
  {
   "cell_type": "code",
   "execution_count": 52,
   "metadata": {},
   "outputs": [
    {
     "data": {
      "text/plain": [
       "os.stat_result(st_mode=33261, st_ino=8621370351, st_dev=16777220, st_nlink=1, st_uid=502, st_gid=20, st_size=353836, st_atime=1609614006, st_mtime=1609613972, st_ctime=1609613972)"
      ]
     },
     "execution_count": 52,
     "metadata": {},
     "output_type": "execute_result"
    }
   ],
   "source": [
    "import os\n",
    "statinfo = os.stat('prise_en_main_jupyter.ipynb')\n",
    "statinfo"
   ]
  },
  {
   "cell_type": "code",
   "execution_count": 53,
   "metadata": {},
   "outputs": [
    {
     "name": "stdout",
     "output_type": "stream",
     "text": [
      "{\r\n",
      " \"cells\": [\r\n",
      "  {\r\n",
      "   \"cell_type\": \"markdown\",\r\n",
      "   \"metadata\": {\r\n",
      "    \"slideshow\": {\r\n",
      "     \"slide_type\": \"slide\"\r\n",
      "    }\r\n",
      "   },\r\n",
      "   \"source\": [\r\n"
     ]
    }
   ],
   "source": [
    "!head \"prise_en_main_jupyter.ipynb\""
   ]
  },
  {
   "cell_type": "code",
   "execution_count": 54,
   "metadata": {},
   "outputs": [
    {
     "name": "stdout",
     "output_type": "stream",
     "text": [
      "    \"    <FONT size=\\\"6\\\">  Prise en main Jupyter Notebook </FONT><br>\\n\",\r\n"
     ]
    }
   ],
   "source": [
    "!grep \"Jupyter\" prise_en_main_jupyter.ipynb  | head -n1"
   ]
  },
  {
   "cell_type": "markdown",
   "metadata": {
    "slideshow": {
     "slide_type": "slide"
    }
   },
   "source": [
    "---\n",
    "## Des exemples en Python\n",
    "\n",
    "1. Premier contact avec Python,\n",
    "2. Manipulation de tableaux numpy et affichage avec Matplotlib,\n",
    "3. Un exemple plus impressionnant : pavage de Penrose."
   ]
  },
  {
   "cell_type": "markdown",
   "metadata": {
    "slideshow": {
     "slide_type": "slide"
    }
   },
   "source": [
    "### Ecrire des programmes et les exécuter depuis Jupyter\n",
    "\n",
    "> 1. Des petits exemples d'utilisation de Python\n",
    "> 2. Utilisation de modules Python"
   ]
  },
  {
   "cell_type": "code",
   "execution_count": 55,
   "metadata": {},
   "outputs": [],
   "source": [
    "def somme (x,y):\n",
    "    return (x+y)"
   ]
  },
  {
   "cell_type": "code",
   "execution_count": 56,
   "metadata": {},
   "outputs": [
    {
     "data": {
      "text/plain": [
       "7"
      ]
     },
     "execution_count": 56,
     "metadata": {},
     "output_type": "execute_result"
    }
   ],
   "source": [
    "x = somme(3,4)\n",
    "x"
   ]
  },
  {
   "cell_type": "code",
   "execution_count": 57,
   "metadata": {
    "slideshow": {
     "slide_type": "subslide"
    }
   },
   "outputs": [
    {
     "name": "stdout",
     "output_type": "stream",
     "text": [
      "Le produit de ces 4 nombres est 384\n"
     ]
    }
   ],
   "source": [
    "nombres = [2, 4, 6, 8]\n",
    "produit = 1\n",
    "for nombre in nombres:\n",
    "    produit *= nombre\n",
    "\n",
    "print(\"Le produit de ces\", len(nombres), \"nombres est\", produit)"
   ]
  },
  {
   "cell_type": "code",
   "execution_count": 58,
   "metadata": {
    "slideshow": {
     "slide_type": "subslide"
    }
   },
   "outputs": [
    {
     "name": "stdout",
     "output_type": "stream",
     "text": [
      "Date actuelle :\n",
      "2021-01-02 20:00:22.735349\n"
     ]
    }
   ],
   "source": [
    "import datetime\n",
    "\n",
    "print(\"Date actuelle :\")\n",
    "print(datetime.datetime.now())"
   ]
  },
  {
   "cell_type": "code",
   "execution_count": 59,
   "metadata": {
    "scrolled": true,
    "slideshow": {
     "slide_type": "subslide"
    }
   },
   "outputs": [
    {
     "name": "stdout",
     "output_type": "stream",
     "text": [
      "0 1 1 2 3 5 8 13 21 34 55 89 144 233 377 610 987 \n"
     ]
    }
   ],
   "source": [
    "def fib(n):\n",
    "    \"\"\" Affiche les premières valeurs de la suite de Fibonacci <= n.\"\"\"\n",
    "    a, b = 0, 1\n",
    "    while a < n:\n",
    "        print(a, end=' ')\n",
    "        a, b = b, a+b\n",
    "    print()\n",
    "\n",
    "fib(1000)"
   ]
  },
  {
   "cell_type": "markdown",
   "metadata": {},
   "source": [
    "### Récupération des entrées / sorties précédentes"
   ]
  },
  {
   "cell_type": "code",
   "execution_count": 60,
   "metadata": {},
   "outputs": [
    {
     "data": {
      "text/plain": [
       "9"
      ]
     },
     "execution_count": 60,
     "metadata": {},
     "output_type": "execute_result"
    }
   ],
   "source": [
    "3 * 3"
   ]
  },
  {
   "cell_type": "code",
   "execution_count": 62,
   "metadata": {},
   "outputs": [
    {
     "data": {
      "text/plain": [
       "'3 * 3'"
      ]
     },
     "execution_count": 62,
     "metadata": {},
     "output_type": "execute_result"
    }
   ],
   "source": [
    "#Entrée précédente (60)\n",
    "\n",
    "In[60]"
   ]
  },
  {
   "cell_type": "code",
   "execution_count": 63,
   "metadata": {},
   "outputs": [
    {
     "data": {
      "text/plain": [
       "'3 * 3'"
      ]
     },
     "execution_count": 63,
     "metadata": {},
     "output_type": "execute_result"
    }
   ],
   "source": [
    "#Sortie 62\n",
    "\n",
    "Out[62]"
   ]
  },
  {
   "cell_type": "code",
   "execution_count": 99,
   "metadata": {
    "scrolled": true
   },
   "outputs": [],
   "source": [
    "# Toutes les entrées\n",
    "In"
   ]
  },
  {
   "cell_type": "code",
   "execution_count": 100,
   "metadata": {},
   "outputs": [],
   "source": [
    "# Toutes les sorties\n",
    "Out"
   ]
  },
  {
   "cell_type": "code",
   "execution_count": 66,
   "metadata": {},
   "outputs": [
    {
     "data": {
      "text/plain": [
       "3"
      ]
     },
     "execution_count": 66,
     "metadata": {},
     "output_type": "execute_result"
    }
   ],
   "source": [
    "1+2"
   ]
  },
  {
   "cell_type": "code",
   "execution_count": 67,
   "metadata": {},
   "outputs": [],
   "source": [
    "1+2;"
   ]
  },
  {
   "cell_type": "code",
   "execution_count": 68,
   "metadata": {},
   "outputs": [
    {
     "data": {
      "text/plain": [
       "2"
      ]
     },
     "execution_count": 68,
     "metadata": {},
     "output_type": "execute_result"
    }
   ],
   "source": [
    "x = 2; x"
   ]
  },
  {
   "cell_type": "markdown",
   "metadata": {},
   "source": [
    "### Système d'exploitation"
   ]
  },
  {
   "cell_type": "code",
   "execution_count": 69,
   "metadata": {},
   "outputs": [
    {
     "name": "stdout",
     "output_type": "stream",
     "text": [
      "Darwin\n",
      "17.7.0\n",
      "Darwin Kernel Version 17.7.0: Mon Aug 31 22:11:23 PDT 2020; root:xnu-4570.71.82.6~1/RELEASE_X86_64\n",
      "Votre système est MacOS\n"
     ]
    }
   ],
   "source": [
    "import platform\n",
    "\n",
    "plt = platform.system()\n",
    "print(platform.system())\n",
    "print(platform.release())\n",
    "print(platform.version())\n",
    "\n",
    "if plt == \"Windows\":\n",
    "    print(\"Votre système est Windows\")\n",
    "    # do x y z\n",
    "elif plt == \"Linux\":\n",
    "    print(\"Votre système est Linux\")\n",
    "    # do x y z\n",
    "elif plt == \"Darwin\":\n",
    "    print(\"Votre système est MacOS\")\n",
    "    # do x y z\n",
    "else:\n",
    "    print(\"Sysème non identifié\")"
   ]
  },
  {
   "cell_type": "code",
   "execution_count": 96,
   "metadata": {},
   "outputs": [],
   "source": [
    "import math\n",
    "#Aide sur cos ?\n",
    "math.cos?"
   ]
  },
  {
   "cell_type": "markdown",
   "metadata": {},
   "source": [
    "### Mesure du temps et profilage de programmes"
   ]
  },
  {
   "cell_type": "code",
   "execution_count": 97,
   "metadata": {},
   "outputs": [
    {
     "name": "stdout",
     "output_type": "stream",
     "text": [
      "1.33 µs ± 40.9 ns per loop (mean ± std. dev. of 7 runs, 1000000 loops each)\n"
     ]
    }
   ],
   "source": [
    "%timeit fib(10)"
   ]
  },
  {
   "cell_type": "code",
   "execution_count": 72,
   "metadata": {},
   "outputs": [
    {
     "name": "stdout",
     "output_type": "stream",
     "text": [
      "[1, 1, 2, 3, 5, 8, 13, 21, 34, 55]\n"
     ]
    }
   ],
   "source": [
    "def fib(N): \n",
    "    \"\"\" \n",
    "    Retourne la liste des N premiers nombres de la suite de Fibonacci.\n",
    "    \"\"\" \n",
    "    f0, f1 = 0, 1\n",
    "    f = [1] * N\n",
    "    for n in range(1, N):\n",
    "        f[n] = f0 + f1\n",
    "        f0, f1 = f1, f[n]\n",
    "\n",
    "    return f\n",
    "\n",
    "print(fib(10))"
   ]
  },
  {
   "cell_type": "markdown",
   "metadata": {},
   "source": [
    "Profilage des programmes (combien de temps CPU passé sur quelles fonctions)"
   ]
  },
  {
   "cell_type": "code",
   "execution_count": 73,
   "metadata": {},
   "outputs": [
    {
     "name": "stdout",
     "output_type": "stream",
     "text": [
      "CPU times: user 11 µs, sys: 0 ns, total: 11 µs\n",
      "Wall time: 14.1 µs\n"
     ]
    }
   ],
   "source": [
    "result = %time fib(50)"
   ]
  },
  {
   "cell_type": "markdown",
   "metadata": {},
   "source": [
    "## Graphiques dans un notebook\n",
    "\n",
    "_Si vous exécutez la fonction magique `%pylab inline`, les packages **Numpy** et **Matplotlib** sont importés et il sera possible de dessiner des graphiques de façon \"inline\" (intégrés au notebook)._"
   ]
  },
  {
   "cell_type": "code",
   "execution_count": 75,
   "metadata": {},
   "outputs": [
    {
     "name": "stdout",
     "output_type": "stream",
     "text": [
      "Populating the interactive namespace from numpy and matplotlib\n"
     ]
    }
   ],
   "source": [
    "%pylab inline"
   ]
  },
  {
   "cell_type": "markdown",
   "metadata": {},
   "source": [
    "_L'exemple de code suivant sera alors exécutable._"
   ]
  },
  {
   "cell_type": "code",
   "execution_count": 76,
   "metadata": {},
   "outputs": [
    {
     "data": {
      "text/plain": [
       "Text(0.5, 1.0, 'Graphique cos(x)')"
      ]
     },
     "execution_count": 76,
     "metadata": {},
     "output_type": "execute_result"
    },
    {
     "data": {
      "image/png": "[encoded data removed]",
      "text/plain": [
       "<Figure size 432x288 with 1 Axes>"
      ]
     },
     "metadata": {
      "needs_background": "light"
     },
     "output_type": "display_data"
    }
   ],
   "source": [
    "# Fait appel à numpy (linspace et pi)\n",
    "x = linspace(0, 3*pi, 500)\n",
    "\n",
    "# Fait appel à matplotlib (plot et title)\n",
    "plot(x, cos(x))\n",
    "title('Graphique cos(x)')"
   ]
  },
  {
   "cell_type": "markdown",
   "metadata": {},
   "source": [
    "### Intégrer une image :"
   ]
  },
  {
   "cell_type": "code",
   "execution_count": 77,
   "metadata": {},
   "outputs": [
    {
     "data": {
      "image/png": "[encoded data removed]",
      "text/plain": [
       "<IPython.core.display.Image object>"
      ]
     },
     "execution_count": 77,
     "metadata": {
      "image/png": {
       "height": 100,
       "width": 100
      }
     },
     "output_type": "execute_result"
    }
   ],
   "source": [
    "from IPython.display import Image\n",
    "Image(\"figs/UNICAEN-logo-NOIR-horizontal.png\", width = 100, height = 100)"
   ]
  },
  {
   "cell_type": "markdown",
   "metadata": {},
   "source": [
    "### Intégrer une vidéo youtube :"
   ]
  },
  {
   "cell_type": "code",
   "execution_count": 78,
   "metadata": {},
   "outputs": [
    {
     "data": {
      "image/jpeg": "[encoded data removed]",
      "text/html": [
       "\n",
       "        <iframe\n",
       "            width=\"400\"\n",
       "            height=\"300\"\n",
       "            src=\"https://www.youtube.com/embed/Rc4JQWowG5I\"\n",
       "            frameborder=\"0\"\n",
       "            allowfullscreen\n",
       "        ></iframe>\n",
       "        "
      ],
      "text/plain": [
       "<IPython.lib.display.YouTubeVideo at 0x113057d50>"
      ]
     },
     "execution_count": 78,
     "metadata": {},
     "output_type": "execute_result"
    }
   ],
   "source": [
    "from IPython.display import YouTubeVideo\n",
    "YouTubeVideo('Rc4JQWowG5I')"
   ]
  },
  {
   "cell_type": "markdown",
   "metadata": {},
   "source": [
    "### Intégrer une page web :"
   ]
  },
  {
   "cell_type": "code",
   "execution_count": 79,
   "metadata": {},
   "outputs": [
    {
     "data": {
      "text/html": [
       "<IFrame src=\"https://fr.wikipedia.org/wiki/Jupyter\" width=700 height=350>"
      ],
      "text/plain": [
       "<IPython.core.display.HTML object>"
      ]
     },
     "execution_count": 79,
     "metadata": {},
     "output_type": "execute_result"
    }
   ],
   "source": [
    "from IPython.display import HTML\n",
    "HTML('<IFrame src=\"https://fr.wikipedia.org/wiki/Jupyter\" width=700 height=350>')"
   ]
  },
  {
   "cell_type": "markdown",
   "metadata": {},
   "source": [
    "## Autres fonctionnalités utiles "
   ]
  },
  {
   "cell_type": "markdown",
   "metadata": {},
   "source": [
    "- En mode édition, bordures vertes, lorsque le curseur est en début de ligne ou lorsque vous avez sélectionné du texte, l'appui sur la touche `<Tab>` (respectivement `<Shift-TAB>`) indente (respectivement désindente) les lignes correspondantes.\n",
    "- La touche `<ESC>` passe en mode commande, les bordures sont alors bleues. Notez bien que dans ce mode, certaines touches du clavier sont associées à des actions sur le notebook. Tenter de saisir du texte dans ce mode peut donc produire des effets inattendus.\n",
    "- Le bouton <button class='fa fa-command icon-command btn  btn-xs btn-default'></button>`[open the command palette]` affiche une fenêtre qui liste l'ensemble des commandes.\n",
    "\n",
    "- Pour **créer vos propres notebooks**, utilisez le bouton `[New Notebook]` dans la première fenêtre \"jupyter Dashboard\", ou faites `File>New` depuis n'importe quelle fenêtre de notebook. N'oubliez ensuite pas de donner un nom de fichier à votre notebook en cliquant dans le champ \"Untitled\" au haut de la fenêtre du nouveau notebook\n",
    "- Pour **effacer tous les outputs** d'un notebook, vous pouvez faire `Cell>All Output>Clear`\n",
    "\n",
    "- Si jupyter Notebook semble bloqué, c'est surement qu'il **tourne indéfiniment** en raison par exemple d'une boucle mal contrôlée (consommant 100% de CPU d'1 core de votre machine). Vous deviez voir le message \"Kernel busy\" au haut de l'écran. Pour l'**interrompre**, cliquez sur le bouton <button class='fa fa-stop icon-stop btn  btn-xs btn-default'></button> (ou menu `Kernel>Interrupt`). Si ça ne fonctionne vraiment pas, il faudra se résoudre à tuer le serveur web avec `<ctrl-C>`\n",
    "\n",
    "\n",
    "- Sous `Help>Keyboard Shortcuts` vous trouverez la liste des nombreux **raccourcis clavier** améliorant grandement l'efficacité d'utilisation de jupyter Notebook !\n",
    "- Sous `Help>Notebook Help` vous accéderez à la **documentation** complète de jupiter Notebook.\n"
   ]
  },
  {
   "cell_type": "markdown",
   "metadata": {
    "slideshow": {
     "slide_type": "slide"
    }
   },
   "source": [
    "## Exemple : Tableaux avec numpy et affichage avec Matplotlib"
   ]
  },
  {
   "cell_type": "markdown",
   "metadata": {
    "slideshow": {
     "slide_type": "subslide"
    }
   },
   "source": [
    "Sur un plateau style Monopoly à 12 cases, un pion part de la case 0, et on joue au dé (à 6 faces) pour avancer à chaque coup de $x$ cases (où $x\\sim\\mathcal{U}(1,\\dots,6)$).\n",
    "\n",
    "L'exercice demande de simuler la variable aléatoire $Y_n$ représentant la case sur laquelle le pion se trouve après $n$ déplacements."
   ]
  },
  {
   "cell_type": "code",
   "execution_count": 93,
   "metadata": {
    "slideshow": {
     "slide_type": "subslide"
    }
   },
   "outputs": [
    {
     "data": {
      "text/plain": [
       "[1, 1, 6, 3, 3, 3, 2, 3, 3, 5]"
      ]
     },
     "execution_count": 93,
     "metadata": {},
     "output_type": "execute_result"
    }
   ],
   "source": [
    "import numpy as np\n",
    "import numpy.random as rd\n",
    "\n",
    "import matplotlib.pyplot as plt\n",
    "case_max = 10\n",
    "def case_aleatoire(case):\n",
    "    return (case + rd.randint(1, 6+1)) % case_max  \n",
    "\n",
    "def Yn(duree, depart=0):\n",
    "    case = depart\n",
    "    for coup in range(duree):\n",
    "        case = case_aleatoire(case)\n",
    "    return case\n",
    "[Yn(1) for _ in range(10)]  # toutes 1 <= ... <= 6"
   ]
  },
  {
   "cell_type": "code",
   "execution_count": 94,
   "metadata": {},
   "outputs": [],
   "source": [
    "def histogramme(duree, repetitions=10000):\n",
    "    cases = [Yn(duree) for _ in range(repetitions)]\n",
    "    frequences = [0] * case_max\n",
    "    for case in cases:\n",
    "        frequences[case] += 1\n",
    "    return frequences / np.sum(frequences)"
   ]
  },
  {
   "cell_type": "code",
   "execution_count": 95,
   "metadata": {
    "slideshow": {
     "slide_type": "subslide"
    }
   },
   "outputs": [
    {
     "data": {
      "image/png": "[encoded data removed]",
      "text/plain": [
       "<Figure size 720x504 with 1 Axes>"
      ]
     },
     "metadata": {
      "needs_background": "light"
     },
     "output_type": "display_data"
    }
   ],
   "source": [
    "n = 10\n",
    "_ = plt.figure(figsize=(10, 7))\n",
    "_ = plt.bar(np.arange(case_max), histogramme(n))\n",
    "_ = plt.title(\"Histogramme de cases visitées en \" + str(n) + \" coups\")\n",
    "plt.show()"
   ]
  },
  {
   "cell_type": "markdown",
   "metadata": {
    "slideshow": {
     "slide_type": "subslide"
    }
   },
   "source": [
    "### Quelques micro exemples très pratiques\n",
    "\n",
    "Dans Python avec Jupyter, on a accès au shell/terminal de l'environnement facilement :"
   ]
  },
  {
   "cell_type": "markdown",
   "metadata": {
    "slideshow": {
     "slide_type": "slide"
    }
   },
   "source": [
    "---\n",
    "## Conseils\n",
    "\n",
    "- Installer Python et Jupyter sur votre ordinateur personnel ;\n",
    "- Essayer de rédiger un notebook Jupyter au lieu d'utiliser votre éditeur / IDE préféré ;\n",
    "- Apprendre par soi-même à utiliser l'interface de Jupyter ;"
   ]
  },
  {
   "cell_type": "markdown",
   "metadata": {
    "slideshow": {
     "slide_type": "subslide"
    }
   },
   "source": [
    "- Comment utiliser un dépôt GitHub/Bitbucket/GitLab pour héberger des notebooks Jupyter, et les afficher en ligne en utilisant le site [`nbviewer.jupyter.org`](https://nbviewer.jupyter.org/).\n",
    "  + [`nbviewer.jupyter.org/github/Naereen/Tutoriel-notebooks-Jupyter-a-Didapro-8-Lille-fevrier-2020`](https://nbviewer.jupyter.org/github/Naereen/Tutoriel-notebooks-Jupyter-a-Didapro-8-Lille-fevrier-2020)\n"
   ]
  },
  {
   "cell_type": "markdown",
   "metadata": {
    "slideshow": {
     "slide_type": "subslide"
    }
   },
   "source": [
    "- Comment utiliser Binder, Google Colab ou d’autres outils gratuits en ligne, pour ajouter un lien afin que tout utilisateur consultant vos notebooks Jupyter puisse démarrer un environnement interactif, directement depuis son navigateur Web, pour interagir avec le notebook sans rien avoir à installer.\n",
    "  + [`https://mybinder.org/`](https://mybinder.org)\n",
    "  \n",
    "  +  Exemple: [`Ce tutoriel`](https://hub.gke2.mybinder.org/user/ychahir-jupyter-ul_scientifique-4p4cr91w/notebooks/Introduction%20aux%20notebooks%20Jupyter.ipynb)\n",
    "  \n",
    "  \n",
    "[![Binder](https://mybinder.org/badge_logo.svg)](https://mybinder.org/)"
   ]
  },
  {
   "cell_type": "markdown",
   "metadata": {
    "slideshow": {
     "slide_type": "subslide"
    }
   },
   "source": [
    "- Utiliser les extensions Jupyter pour améliorer l'EDI. Voir [`jupyter-contrib-nbextensions.readthedocs.io`](https://jupyter-contrib-nbextensions.readthedocs.io/en/latest/).\n",
    "  + par exemple pour ajouter automatiquement une table des matières,\n",
    "  + un autre exemple : explorateur de variables (démonstration),\n",
    "  + un dernier exemple (méta) : RISE permet d'afficher une présentation interactive dynamiquement générée depuis le notebook (comme pour ce tutoriel).\n",
    "\n",
    "- Suiver les meilleurs exemples, par exemple le célèbre Peter Norvig (chef de la recherche chez Google) publie des notebooks très intéressants sur son projet [`github.com/norvig/pytudes`](https://github.com/norvig/pytudes), depuis 5 ans."
   ]
  },
  {
   "cell_type": "markdown",
   "metadata": {},
   "source": [
    "# Annexes : Quelques éléments de Markdown pour Jupyter"
   ]
  },
  {
   "cell_type": "markdown",
   "metadata": {},
   "source": [
    "### Italique"
   ]
  },
  {
   "cell_type": "markdown",
   "metadata": {},
   "source": [
    "En mettant des astérisques autour du texte `*texte*` il est affiché en italique : *texte*"
   ]
  },
  {
   "cell_type": "markdown",
   "metadata": {},
   "source": [
    "### Gras"
   ]
  },
  {
   "cell_type": "markdown",
   "metadata": {},
   "source": [
    "En mettant des doubles astérisques autour du texte `**texte**` il est affiché en gras : **texte**"
   ]
  },
  {
   "cell_type": "markdown",
   "metadata": {},
   "source": [
    "### Strike-through"
   ]
  },
  {
   "cell_type": "markdown",
   "metadata": {},
   "source": [
    "En entourrant le texte de doubles tidles `~~text~~` il est affiché comme strike-through: ~~text~~"
   ]
  },
  {
   "cell_type": "markdown",
   "metadata": {},
   "source": [
    "### Police de taille fixe"
   ]
  },
  {
   "cell_type": "markdown",
   "metadata": {},
   "source": [
    "Le texte mis entre quotes  ` sont affiché avec une police de taille fixe:\n",
    "\n",
    "`texte`"
   ]
  },
  {
   "cell_type": "markdown",
   "metadata": {},
   "source": [
    "### URLs"
   ]
  },
  {
   "cell_type": "markdown",
   "metadata": {},
   "source": [
    "Voici la syntaxde pour les URL\t`[URL text](http://www.example.com)`: [URL text](http://www.example.com) "
   ]
  },
  {
   "cell_type": "markdown",
   "metadata": {},
   "source": [
    "### Nouveaux paragraphes"
   ]
  },
  {
   "cell_type": "markdown",
   "metadata": {},
   "source": [
    "Il suffit de sauter une ligne pour créer un nouvau paragraphe.\n",
    "\n",
    "Voici un nouveau paragraphe"
   ]
  },
  {
   "cell_type": "markdown",
   "metadata": {},
   "source": [
    "### Verbatim"
   ]
  },
  {
   "cell_type": "markdown",
   "metadata": {},
   "source": [
    "En démarrant le texte par 4 espace, il est reproduit à l'identique :\n",
    "\n",
    "    def func(x):\n",
    "        return x ** 2"
   ]
  },
  {
   "cell_type": "markdown",
   "metadata": {},
   "source": [
    "### Tableaux"
   ]
  },
  {
   "cell_type": "markdown",
   "metadata": {},
   "source": [
    "Voici un exemple pour formatter un tableau :\n",
    "    | A | B | C |\n",
    "    |---|---|---|\n",
    "    | 1 | 2 | 3 |\n",
    "    | 4 | 5 | 6 |\n",
    "\n",
    "| A | B | C |\n",
    "|---|---|---|\n",
    "| 1 | 2 | 3 |\n",
    "| 4 | 5 | 6 |"
   ]
  },
  {
   "cell_type": "markdown",
   "metadata": {},
   "source": [
    "### Ligne horizontale"
   ]
  },
  {
   "cell_type": "markdown",
   "metadata": {},
   "source": [
    "Une ligne avec 3 tirets `---` est affichée comme une ligne horizontale :\n",
    "\n",
    "---"
   ]
  },
  {
   "cell_type": "markdown",
   "metadata": {},
   "source": [
    "### Headings"
   ]
  },
  {
   "cell_type": "markdown",
   "metadata": {},
   "source": [
    "Une ligne commençant par un `#` est une entête de niveau 1, `##` une entête de niveau  2, `###` une entête de niveau  3, etc.\n",
    "\n",
    "    # Niveau 1\n",
    "    ## Niveau 2\n",
    "    ### Niveau 3"
   ]
  },
  {
   "cell_type": "markdown",
   "metadata": {},
   "source": [
    "### Block quote"
   ]
  },
  {
   "cell_type": "markdown",
   "metadata": {},
   "source": [
    "Les lignes qui commencent par  `>` sont affichées comme des blocs de citation :\n",
    "\n",
    "> Text here is indented and offset\n",
    "> from the main text body."
   ]
  },
  {
   "cell_type": "markdown",
   "metadata": {},
   "source": [
    "### Listes non ordonnées"
   ]
  },
  {
   "cell_type": "markdown",
   "metadata": {},
   "source": [
    "Elles commencent par `*`\n",
    "\n",
    "* Item one\n",
    "* Item two\n",
    "* Item three"
   ]
  },
  {
   "cell_type": "markdown",
   "metadata": {},
   "source": [
    "### Listes ordonnées"
   ]
  },
  {
   "cell_type": "markdown",
   "metadata": {},
   "source": [
    "Numéros suivis de points : 1. ..., 2. ..., etc.\n",
    "1. Item un\n",
    "2. Item deux\n",
    "3. Item trois"
   ]
  },
  {
   "cell_type": "markdown",
   "metadata": {},
   "source": [
    "### Image"
   ]
  },
  {
   "cell_type": "markdown",
   "metadata": {},
   "source": [
    "Il est possible d'inclure des images par `![Alternative text](image-file.png)` ou `![Alternative text](http://www.example.com/image.png)`:\n",
    "\n",
    "![Alternative text](figs/LogoUNICAEN.png)"
   ]
  },
  {
   "cell_type": "markdown",
   "metadata": {},
   "source": [
    "### LaTeX"
   ]
  },
  {
   "cell_type": "markdown",
   "metadata": {},
   "source": [
    "Equations LaTeX inline `$x^2$`: $x^2$\n",
    "\n",
    "Equations LaTeX centrées sur nouvelles lignes: `$$x^2$$`\n",
    "\n",
    "$$x^2$$ \n",
    "\n",
    "Possibilité d'utiliser equation, eqnarray, align:\n",
    "\n",
    "`\\begin{equation} x = 1 \\end{equation}`\n",
    "\n",
    "\\begin{equation} x = 1 \\end{equation}\n",
    "\n",
    "`\\begin{eqnarray} x = 2 \\end{eqnarray}`\n",
    "\n",
    "\\begin{eqnarray} x = 2 \\end{eqnarray}\n",
    "\n",
    "`\\begin{align} x = 3 \\end{align}`\n",
    "\n",
    "\\begin{align} x = 3 \\end{align}\n"
   ]
  },
  {
   "cell_type": "markdown",
   "metadata": {
    "slideshow": {
     "slide_type": "slide"
    }
   },
   "source": [
    "---\n",
    "### Références et liens\n",
    "\n",
    "Pour terminer, quelques pointeurs pour en apprendre plus par vous-même.\n",
    "- Langage Python : [`www.python.org`](https://www.python.org/)\n",
    "- Projet jupyter : [`www.jupyter.org`](https://www.jupyter.org/)\n",
    "- IPyton [`ipython.org`](http://ipython.org).\n",
    "- Installeur Anaconda : [`www.anaconda.com/distribution/`](https://www.anaconda.com/distribution/)\n",
    "- Des bons tutoriels : [`plot.ly/python/v3/ipython-notebook-tutorial/`](https://plot.ly/python/v3/ipython-notebook-tutorial/) et [`www.dataquest.io/blog/advanced-jupyter-notebooks-tutorial/`](https://www.dataquest.io/blog/advanced-jupyter-notebooks-tutorial/)\n",
    "- Documentation : [`jupyter-notebook-beginner-guide.readthedocs.io`](https://jupyter-notebook-beginner-guide.readthedocs.io/en/latest/what_is_jupyter.html#id4)"
   ]
  }
 ],
 "metadata": {
  "celltoolbar": "Diaporama",
  "kernelspec": {
   "display_name": "Python 3",
   "language": "python",
   "name": "python3"
  },
  "language_info": {
   "codemirror_mode": {
    "name": "ipython",
    "version": 3
   },
   "file_extension": ".py",
   "mimetype": "text/x-python",
   "name": "python",
   "nbconvert_exporter": "python",
   "pygments_lexer": "ipython3",
   "version": "3.7.9"
  },
  "latex_envs": {
   "LaTeX_envs_menu_present": true,
   "autoclose": false,
   "autocomplete": true,
   "bibliofile": "biblio.bib",
   "cite_by": "apalike",
   "current_citInitial": 1,
   "eqLabelWithNumbers": true,
   "eqNumInitial": 1,
   "hotkeys": {
    "equation": "Ctrl-E",
    "itemize": "Ctrl-I"
   },
   "labels_anchors": false,
   "latex_user_defs": false,
   "report_style_numbering": false,
   "user_envs_cfg": false
  },
  "toc": {
   "base_numbering": 1,
   "nav_menu": {
    "height": "562.75px",
    "width": "418px"
   },
   "number_sections": true,
   "sideBar": true,
   "skip_h1_title": false,
   "title_cell": "Table of Contents",
   "title_sidebar": "Contents",
   "toc_cell": true,
   "toc_position": {
    "height": "656.8px",
    "left": "0px",
    "right": "1372px",
    "top": "150.2px",
    "width": "254px"
   },
   "toc_section_display": "block",
   "toc_window_display": true
  },
  "varInspector": {
   "cols": {
    "lenName": 16,
    "lenType": 16,
    "lenVar": 40
   },
   "kernels_config": {
    "python": {
     "delete_cmd_postfix": "",
     "delete_cmd_prefix": "del ",
     "library": "var_list.py",
     "varRefreshCmd": "print(var_dic_list())"
    },
    "r": {
     "delete_cmd_postfix": ") ",
     "delete_cmd_prefix": "rm(",
     "library": "var_list.r",
     "varRefreshCmd": "cat(var_dic_list()) "
    }
   },
   "position": {
    "height": "297.183px",
    "left": "2.66667px",
    "right": "20px",
    "top": "158px",
    "width": "433.667px"
   },
   "types_to_exclude": [
    "module",
    "function",
    "builtin_function_or_method",
    "instance",
    "_Feature"
   ],
   "window_display": false
  }
 },
 "nbformat": 4,
 "nbformat_minor": 4
}
